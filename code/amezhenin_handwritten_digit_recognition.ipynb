
<!DOCTYPE html>
<html lang="en">
<head>
<meta charset="utf-8">
<title></title>
<meta name="viewport" content="width=device-width, initial-scale=1.0">
<meta name="description" content="">
<meta name="author" content="">
 
 
 
 
<link href="/static/css/docs.css" rel="stylesheet">
<link href="/static/css/bootstrap.min.css" rel="stylesheet">
<link href="/static/css/bootstrap-responsive.css" rel="stylesheet">
<link href="/static/components/animate.css/animate.css" rel="stylesheet">
<link href="/static/components/Font-Awesome/css/font-awesome.min.css" rel="stylesheet">
<link href="/static/css/nbviewer.css" rel="stylesheet">
 
<!--[if lt IE 9]>
      <script src="http://html5shim.googlecode.com/svn/trunk/html5.js"></script>
    <![endif]-->
 
<link rel="shortcut icon" href="/static/ico/ipynb_icon_16x16.png">
<link rel="apple-touch-icon-precomposed" sizes="144x144" href="/static/ico/apple-touch-icon-144-precomposed.png">
<link rel="apple-touch-icon-precomposed" sizes="114x114" href="/static/ico/apple-touch-icon-114-precomposed.png">
<link rel="apple-touch-icon-precomposed" sizes="72x72" href="/static/ico/apple-touch-icon-72-precomposed.png">
<link rel="apple-touch-icon-precomposed" href="/static/ico/apple-touch-icon-57-precomposed.png">
<meta name="twitter:card" content="summary">
<meta name="twitter:title" content="Notebook on nbviewer">
<meta name="twitter:description" content="Check out this Jupyter notebook!">
<meta name="twitter:domain" content="nbviewer.ipython.org">
<meta name="twitter:image:src" content="http://ipython.org/ipython-doc/dev/_images/ipynb_icon_128x128.png">
<link href="/ipython-static/style/ipython.min.css" rel="stylesheet">
<link href="/static/css/pygments.css" rel="stylesheet">
<style type="text/css" media='screen and (min-width:980px)'>body{padding-top:40px;}</style>
<style type="text/css">.imgwrap{text-align:center;}@media (max-width: 767px){div.input,div.output_area{-webkit-box-orient:vertical;-moz-box-orient:vertical;box-orient:vertical;}div.prompt{text-align:left;}}</style>
<script src="https://cdn.mathjax.org/mathjax/latest/MathJax.js?config=TeX-AMS_HTML"type="text/javascript">
    </script>
    <script type="text/javascript">
    init_mathjax = function() {
        if (window.MathJax) {
            // MathJax loaded
            MathJax.Hub.Config({
                tex2jax: {
                    inlineMath: [ ['$','$'], ["\\(","\\)"] ],
                    displayMath: [ ['$$','$$'], ["\\[","\\]"] ],
                    processEscapes: true,
                    processEnvironments: true
                },
                displayAlign: 'center',
                "HTML-CSS": {
                    styles: {'.MathJax_Display': {"margin": 0}},
                    linebreaks: { automatic: true }
                }
            });
            MathJax.Hub.Queue(["Typeset",MathJax.Hub]);
        }
    }
    init_mathjax();
    </script>
    
  </head>

  <body data-spy="scroll" data-target=".subnav" data-offset="50">

  <!-- These are loaded at the top of the body so they are available to notebook
  cells when they are loaded below. -->
  <script src="/static/js/jquery.min.js"></script>
  <script src="/static/components/requirejs/require.js"></script>
  <script src="/static/components/moment/min/moment.min.js"></script>

  <!-- Navbar
  ================================================== -->
    <div id='menubar' class="navbar navbar-fixed-top hidden-print">
      <div class="navbar-inner">
        <div class="container">
          <button type="button" class="btn btn-navbar" data-toggle="collapse" data-target=".nav-collapse">
            <span class="fa fa-bars"></span>
          </button>
          <div class="nav-collapse collapse">
            <ul class="nav">

                <li>
        <a href="/" title="nbviewer" >
            <strong>
            <span>nbviewer</span>
            </strong>
        </a>
    </li>
                <li>
        <a href="/faq" title="FAQ" >
            
            <span>FAQ</span>
            
        </a>
    </li>

              <li class="">
                <a href="http://ipython.org">IPython</a>
              </li>

              <li class="">
                <a href="http://jupyter.org">Jupyter</a>
              </li>

            </ul>
            <ul class="nav pull-right"> 
              
              
      
        <li>
        <a href="https://github.com/herrfz/kaggle/blob/master/hwdigit/handwritten_digit_recognition.ipynb" title="Notebook Home" >
            <span class='fa fa-github fa-2x menu-icon'></span>
            <span class='menu-text'>Notebook Home</span>
        </a>
    </li>
      
        <li>
        <a href="https://raw.githubusercontent.com/herrfz/kaggle/master/hwdigit/handwritten_digit_recognition.ipynb" title="Download Notebook" download>
            <span class='fa fa-download fa-2x menu-icon'></span>
            <span class='menu-text'>Download Notebook</span>
        </a>
    </li>
    
            </ul>
          </div>
        </div>
      </div>
    </div>
    <div class="container">

     
    
<ul class="breadcrumb">
    
    <li><a href="/github/herrfz/kaggle/tree/master">kaggle</a> <span class="divider">/</span></li>
    
    <li><a href="/github/herrfz/kaggle/tree/master/hwdigit">hwdigit</a> <span class="divider">/</span></li>
    
</ul>

    
<div class="cell border-box-sizing text_cell rendered">
<div class="prompt input_prompt">
</div>
<div class="inner_cell">
<div class="text_cell_render border-box-sizing rendered_html">
<h2 id="Handwritten-digit-recognition">Handwritten digit recognition<a class="anchor-link" href="#Handwritten-digit-recognition">&#182;</a></h2>
</div>
</div>
</div>

<div class="cell border-box-sizing text_cell rendered">
<div class="prompt input_prompt">
</div>
<div class="inner_cell">
<div class="text_cell_render border-box-sizing rendered_html">
<p>This is one of Kaggle&#39;s getting-started no-prize competition, based on handwritten digit MNIST data.</p>
<p>A summary of my approaches:</p>
<ul>
<li>Reserve the last 7000 data samples for testing (i.e. used as a reference for computing the prediction accuracy).</li>
<li>Try SVM and PCA, reducing the number of features from 784 down to 80, with a small subset of the data, see if it works and how fast. I actually did plenty of trials here, varying the number of principal components (80 - 400), different sample sizes, different SVM kernels (RBF, linear, polynomial). Eventually got up to 96.83% prediction accuracy.</li>
<li>Try RandomForest with default parameters. Too slow. Got only 94.07% prediction accuracy.</li>
<li>Training one SVM using all (42000) samples is too demanding for my laptop. <b>This is the lessons learnt from this exercise: SVM complexity is $O(n^2)$ for $n$ samples</b>, which is kinda crazy. So I just made an ensemble of SVMs, each trained with a subset of the data, and obtained a final prediction for each sample by taking a majority vote from the SVMs. I tried different numbers of SVMs in the ensemble, 7, 5, 3, ended up using 3, reaching 97.44% prediction accuracy.</li>
<li>Finally for the Kaggle submission I split the data into three subsets, each used to train an SVM, with cross-validation and stuff, and predict the values in the test dataset based on majority vote of the three SVMs. The resulting score was 97.43%.</li>
</ul>
<p>Some things that aren&#39;t done (yet):</p>
<ul>
<li>Feature extraction and feature engineering</li>
<li>&quot;Don&#39;t know&quot; kind of prediction, e.g. if there is no majority class during the voting.</li>
</ul>
</div>
</div>
</div>
<div class="cell border-box-sizing code_cell rendered">
<div class="input">
<div class="prompt input_prompt">In&nbsp;[1]:</div>
<div class="inner_cell">
    <div class="input_area">
<div class="highlight"><pre><span class="c"># pandas and numpy</span>
<span class="c"># not so much of pandas but for read_csv which is more efficient than numpy.loadtxt</span>
<span class="kn">import</span> <span class="nn">numpy</span> <span class="kn">as</span> <span class="nn">np</span>
<span class="kn">import</span> <span class="nn">pandas</span> <span class="kn">as</span> <span class="nn">pd</span>

<span class="c"># scikit-learn classifiers and cross validation utils</span>
<span class="kn">from</span> <span class="nn">sklearn.ensemble</span> <span class="kn">import</span> <span class="n">RandomForestClassifier</span>
<span class="kn">from</span> <span class="nn">sklearn.svm</span> <span class="kn">import</span> <span class="n">SVC</span>
<span class="kn">from</span> <span class="nn">sklearn.grid_search</span> <span class="kn">import</span> <span class="n">GridSearchCV</span>

<span class="c"># scikit-learn dimension reduction</span>
<span class="kn">from</span> <span class="nn">sklearn.decomposition</span> <span class="kn">import</span> <span class="n">PCA</span>

<span class="c"># scikit-learn dataset processing utils</span>
<span class="kn">from</span> <span class="nn">sklearn.preprocessing</span> <span class="kn">import</span> <span class="n">MinMaxScaler</span>
</pre></div>

</div>
</div>
</div>

</div>
<div class="cell border-box-sizing text_cell rendered">
<div class="prompt input_prompt">
</div>
<div class="inner_cell">
<div class="text_cell_render border-box-sizing rendered_html">
<p>Load the training data and have a quick look</p>
</div>
</div>
</div>
<div class="cell border-box-sizing code_cell rendered">
<div class="input">
<div class="prompt input_prompt">In&nbsp;[2]:</div>
<div class="inner_cell">
    <div class="input_area">
<div class="highlight"><pre><span class="n">df</span> <span class="o">=</span> <span class="n">pd</span><span class="o">.</span><span class="n">read_csv</span><span class="p">(</span><span class="s">&#39;./data/train.csv&#39;</span><span class="p">)</span>
<span class="n">df</span> <span class="o">=</span> <span class="n">df</span><span class="o">.</span><span class="n">astype</span><span class="p">(</span><span class="n">float64</span><span class="p">)</span>
</pre></div>

</div>
</div>
</div>

</div>
<div class="cell border-box-sizing code_cell rendered">
<div class="input">
<div class="prompt input_prompt">In&nbsp;[3]:</div>
<div class="inner_cell">
    <div class="input_area">
<div class="highlight"><pre><span class="n">df</span><span class="o">.</span><span class="n">shape</span>
</pre></div>

</div>
</div>
</div>

<div class="output_wrapper">
<div class="output">


<div class="output_area"><div class="prompt output_prompt">Out[3]:</div>


<div class="output_text output_subarea output_pyout">
<pre>
(42000, 785)
</pre>
</div>

</div>

</div>
</div>

</div>
<div class="cell border-box-sizing code_cell rendered">
<div class="input">
<div class="prompt input_prompt">In&nbsp;[4]:</div>
<div class="inner_cell">
    <div class="input_area">
<div class="highlight"><pre><span class="n">df</span><span class="o">.</span><span class="n">ix</span><span class="p">[</span><span class="mi">1000</span><span class="p">:</span><span class="mi">1010</span><span class="p">,</span><span class="mi">200</span><span class="p">:</span><span class="mi">215</span><span class="p">]</span>
</pre></div>

</div>
</div>
</div>

<div class="output_wrapper">
<div class="output">


<div class="output_area"><div class="prompt output_prompt">Out[4]:</div>

<div class="output_html rendered_html output_subarea output_pyout">
<div style="max-height:1000px;max-width:1500px;overflow:auto;">
<table border="1" class="dataframe">
  <thead>
    <tr style="text-align: right;">
      <th></th>
      <th>pixel199</th>
      <th>pixel200</th>
      <th>pixel201</th>
      <th>pixel202</th>
      <th>pixel203</th>
      <th>pixel204</th>
      <th>pixel205</th>
      <th>pixel206</th>
      <th>pixel207</th>
      <th>pixel208</th>
      <th>pixel209</th>
      <th>pixel210</th>
      <th>pixel211</th>
      <th>pixel212</th>
      <th>pixel213</th>
    </tr>
  </thead>
  <tbody>
    <tr>
      <th>1000</th>
      <td> 0</td>
      <td> 0</td>
      <td> 0</td>
      <td>  0</td>
      <td>   0</td>
      <td>   0</td>
      <td>   0</td>
      <td>   0</td>
      <td>   0</td>
      <td>   0</td>
      <td> 211</td>
      <td> 239</td>
      <td>  42</td>
      <td>   0</td>
      <td>   0</td>
    </tr>
    <tr>
      <th>1001</th>
      <td> 0</td>
      <td> 0</td>
      <td> 0</td>
      <td>  0</td>
      <td>   0</td>
      <td>   0</td>
      <td>   0</td>
      <td>   0</td>
      <td>   0</td>
      <td>   0</td>
      <td>   0</td>
      <td>   0</td>
      <td>   0</td>
      <td>   0</td>
      <td>   0</td>
    </tr>
    <tr>
      <th>1002</th>
      <td> 0</td>
      <td> 0</td>
      <td> 0</td>
      <td>  0</td>
      <td>   0</td>
      <td>   0</td>
      <td>   0</td>
      <td>   0</td>
      <td>   0</td>
      <td>   0</td>
      <td>  51</td>
      <td> 254</td>
      <td> 254</td>
      <td> 139</td>
      <td>   0</td>
    </tr>
    <tr>
      <th>1003</th>
      <td> 0</td>
      <td> 0</td>
      <td> 0</td>
      <td>  0</td>
      <td>   0</td>
      <td>   0</td>
      <td>   0</td>
      <td> 224</td>
      <td> 253</td>
      <td> 222</td>
      <td>  72</td>
      <td>   0</td>
      <td>   0</td>
      <td>   0</td>
      <td>   0</td>
    </tr>
    <tr>
      <th>1004</th>
      <td> 0</td>
      <td> 0</td>
      <td> 0</td>
      <td>  0</td>
      <td>   0</td>
      <td>   0</td>
      <td>   0</td>
      <td>   0</td>
      <td>   2</td>
      <td> 132</td>
      <td> 254</td>
      <td> 215</td>
      <td>  55</td>
      <td>   0</td>
      <td>   0</td>
    </tr>
    <tr>
      <th>1005</th>
      <td> 0</td>
      <td> 0</td>
      <td> 0</td>
      <td> 46</td>
      <td> 221</td>
      <td> 253</td>
      <td> 253</td>
      <td> 253</td>
      <td> 183</td>
      <td> 253</td>
      <td> 253</td>
      <td> 253</td>
      <td> 253</td>
      <td> 228</td>
      <td>   0</td>
    </tr>
    <tr>
      <th>1006</th>
      <td> 0</td>
      <td> 0</td>
      <td> 0</td>
      <td>  0</td>
      <td>   0</td>
      <td>   0</td>
      <td>   0</td>
      <td>   0</td>
      <td>  12</td>
      <td> 171</td>
      <td> 252</td>
      <td> 253</td>
      <td> 252</td>
      <td> 252</td>
      <td> 230</td>
    </tr>
    <tr>
      <th>1007</th>
      <td> 0</td>
      <td> 0</td>
      <td> 0</td>
      <td>  0</td>
      <td>   0</td>
      <td>   0</td>
      <td>   0</td>
      <td>   0</td>
      <td>   0</td>
      <td>   0</td>
      <td>   0</td>
      <td>   0</td>
      <td>   0</td>
      <td>  34</td>
      <td>  82</td>
    </tr>
    <tr>
      <th>1008</th>
      <td> 0</td>
      <td> 0</td>
      <td> 0</td>
      <td>  0</td>
      <td>   0</td>
      <td>   0</td>
      <td>   0</td>
      <td>   0</td>
      <td>   0</td>
      <td>   0</td>
      <td>  10</td>
      <td>  29</td>
      <td>  41</td>
      <td> 141</td>
      <td> 141</td>
    </tr>
    <tr>
      <th>1009</th>
      <td> 0</td>
      <td> 0</td>
      <td> 0</td>
      <td>  0</td>
      <td>   0</td>
      <td>   0</td>
      <td> 241</td>
      <td> 252</td>
      <td> 106</td>
      <td>   0</td>
      <td>   0</td>
      <td>   0</td>
      <td>   0</td>
      <td>   0</td>
      <td> 253</td>
    </tr>
    <tr>
      <th>1010</th>
      <td> 0</td>
      <td> 0</td>
      <td> 0</td>
      <td>  0</td>
      <td>   0</td>
      <td>   0</td>
      <td>   0</td>
      <td>   0</td>
      <td>   0</td>
      <td>   0</td>
      <td>   0</td>
      <td>   0</td>
      <td>   0</td>
      <td>  57</td>
      <td> 250</td>
    </tr>
  </tbody>
</table>
</div>
</div>

</div>

</div>
</div>

</div>
<div class="cell border-box-sizing code_cell rendered">
<div class="input">
<div class="prompt input_prompt">In&nbsp;[196]:</div>
<div class="inner_cell">
    <div class="input_area">
<div class="highlight"><pre><span class="n">f</span><span class="p">,</span> <span class="p">(</span><span class="n">ax1</span><span class="p">,</span> <span class="n">ax2</span><span class="p">,</span> <span class="n">ax3</span><span class="p">,</span> <span class="n">ax4</span><span class="p">)</span> <span class="o">=</span> <span class="n">subplots</span><span class="p">(</span><span class="n">ncols</span><span class="o">=</span><span class="mi">4</span><span class="p">)</span>

<span class="n">imsize</span> <span class="o">=</span> <span class="p">(</span><span class="mi">28</span><span class="p">,</span> <span class="mi">28</span><span class="p">)</span>
<span class="n">ax1</span><span class="o">.</span><span class="n">matshow</span><span class="p">(</span><span class="n">np</span><span class="o">.</span><span class="n">reshape</span><span class="p">(</span><span class="n">df</span><span class="o">.</span><span class="n">ix</span><span class="p">[</span><span class="mi">35023</span><span class="p">,</span><span class="mi">1</span><span class="p">:],</span> <span class="n">imsize</span><span class="p">),</span> <span class="n">cmap</span><span class="o">=</span><span class="s">&#39;gray_r&#39;</span><span class="p">)</span>
<span class="n">ax2</span><span class="o">.</span><span class="n">matshow</span><span class="p">(</span><span class="n">np</span><span class="o">.</span><span class="n">reshape</span><span class="p">(</span><span class="n">df</span><span class="o">.</span><span class="n">ix</span><span class="p">[</span><span class="mi">1008</span><span class="p">,</span><span class="mi">1</span><span class="p">:],</span> <span class="n">imsize</span><span class="p">),</span> <span class="n">cmap</span><span class="o">=</span><span class="s">&#39;gray_r&#39;</span><span class="p">)</span>
<span class="n">ax3</span><span class="o">.</span><span class="n">matshow</span><span class="p">(</span><span class="n">np</span><span class="o">.</span><span class="n">reshape</span><span class="p">(</span><span class="n">df</span><span class="o">.</span><span class="n">ix</span><span class="p">[</span><span class="mi">1009</span><span class="p">,</span><span class="mi">1</span><span class="p">:],</span> <span class="n">imsize</span><span class="p">),</span> <span class="n">cmap</span><span class="o">=</span><span class="s">&#39;gray_r&#39;</span><span class="p">)</span>
<span class="n">ax4</span><span class="o">.</span><span class="n">matshow</span><span class="p">(</span><span class="n">np</span><span class="o">.</span><span class="n">reshape</span><span class="p">(</span><span class="n">df</span><span class="o">.</span><span class="n">ix</span><span class="p">[</span><span class="mi">1012</span><span class="p">,</span><span class="mi">1</span><span class="p">:],</span> <span class="n">imsize</span><span class="p">),</span> <span class="n">cmap</span><span class="o">=</span><span class="s">&#39;gray_r&#39;</span><span class="p">)</span>

<span class="n">f</span><span class="o">.</span><span class="n">tight_layout</span><span class="p">();</span>
</pre></div>

</div>
</div>
</div>

<div class="output_wrapper">
<div class="output">


<div class="output_area"><div class="prompt"></div>


<div class="output_png output_subarea ">
<img src="data:image/png;base64,iVBORw0KGgoAAAANSUhEUgAAAagAAABpCAYAAABvcbdlAAAABHNCSVQICAgIfAhkiAAAAAlwSFlz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"
>
</div>

</div>

</div>
</div>

</div>
<div class="cell border-box-sizing text_cell rendered">
<div class="prompt input_prompt">
</div>
<div class="inner_cell">
<div class="text_cell_render border-box-sizing rendered_html">
<h3 id="SVM">SVM<a class="anchor-link" href="#SVM">&#182;</a></h3>
</div>
</div>
</div>

<div class="cell border-box-sizing text_cell rendered">
<div class="prompt input_prompt">
</div>
<div class="inner_cell">
<div class="text_cell_render border-box-sizing rendered_html">
<p>Create scaler and PCA objects</p>
</div>
</div>
</div>
<div class="cell border-box-sizing code_cell rendered">
<div class="input">
<div class="prompt input_prompt">In&nbsp;[3]:</div>
<div class="inner_cell">
    <div class="input_area">
<div class="highlight"><pre><span class="n">min_max_scaler</span> <span class="o">=</span> <span class="n">MinMaxScaler</span><span class="p">()</span>
<span class="n">pca</span> <span class="o">=</span> <span class="n">PCA</span><span class="p">(</span><span class="n">n_components</span><span class="o">=</span><span class="mi">80</span><span class="p">)</span>
</pre></div>

</div>
</div>
</div>

</div>
<div class="cell border-box-sizing text_cell rendered">
<div class="prompt input_prompt">
</div>
<div class="inner_cell">
<div class="text_cell_render border-box-sizing rendered_html">
<p>Subset data for training, scale and apply PCA</p>
</div>
</div>
</div>
<div class="cell border-box-sizing code_cell rendered">
<div class="input">
<div class="prompt input_prompt">In&nbsp;[4]:</div>
<div class="inner_cell">
    <div class="input_area">
<div class="highlight"><pre><span class="n">X</span> <span class="o">=</span> <span class="n">min_max_scaler</span><span class="o">.</span><span class="n">fit_transform</span><span class="p">(</span><span class="n">df</span><span class="o">.</span><span class="n">ix</span><span class="p">[:</span><span class="mi">9999</span><span class="p">,</span><span class="mi">1</span><span class="p">:])</span>
<span class="n">X</span> <span class="o">=</span> <span class="n">pca</span><span class="o">.</span><span class="n">fit_transform</span><span class="p">(</span><span class="n">X</span><span class="p">)</span>

<span class="n">y</span> <span class="o">=</span> <span class="n">df</span><span class="o">.</span><span class="n">ix</span><span class="p">[:</span><span class="mi">9999</span><span class="p">,</span><span class="mi">0</span><span class="p">]</span>
</pre></div>

</div>
</div>
</div>

</div>
<div class="cell border-box-sizing code_cell rendered">
<div class="input">
<div class="prompt input_prompt">In&nbsp;[7]:</div>
<div class="inner_cell">
    <div class="input_area">
<div class="highlight"><pre><span class="n">tuned_parameters</span> <span class="o">=</span> <span class="p">[{</span><span class="s">&#39;kernel&#39;</span> <span class="p">:</span> <span class="p">[</span><span class="s">&#39;rbf&#39;</span><span class="p">],</span> <span class="s">&#39;gamma&#39;</span><span class="p">:</span> <span class="p">[</span><span class="mf">0.1</span><span class="p">,</span> <span class="mf">1e-2</span><span class="p">,</span> <span class="mf">1e-3</span><span class="p">],</span> <span class="s">&#39;C&#39;</span><span class="p">:</span> <span class="p">[</span><span class="mi">10</span><span class="p">,</span> <span class="mi">100</span><span class="p">,</span> <span class="mi">1000</span><span class="p">]},</span> 
                    <span class="p">{</span><span class="s">&#39;kernel&#39;</span> <span class="p">:</span> <span class="p">[</span><span class="s">&#39;poly&#39;</span><span class="p">],</span> <span class="s">&#39;degree&#39;</span> <span class="p">:</span> <span class="p">[</span><span class="mi">5</span><span class="p">,</span> <span class="mi">9</span><span class="p">],</span> <span class="s">&#39;C&#39;</span> <span class="p">:</span> <span class="p">[</span><span class="mi">1</span><span class="p">,</span> <span class="mi">10</span><span class="p">]}]</span>

<span class="n">svm</span> <span class="o">=</span> <span class="n">GridSearchCV</span><span class="p">(</span> <span class="n">SVC</span><span class="p">(),</span> <span class="n">tuned_parameters</span><span class="p">,</span> <span class="n">cv</span><span class="o">=</span><span class="mi">3</span><span class="p">,</span> <span class="n">verbose</span><span class="o">=</span><span class="mi">2</span> <span class="p">)</span><span class="o">.</span><span class="n">fit</span><span class="p">(</span><span class="n">X</span><span class="p">,</span> <span class="n">y</span><span class="p">)</span>
</pre></div>

</div>
</div>
</div>

<div class="output_wrapper">
<div class="output">


<div class="output_area"><div class="prompt"></div>
<div class="output_subarea output_stream output_stdout output_text">
<pre>
[GridSearchCV] kernel=rbf, C=10, gamma=0.1 .....................................
[GridSearchCV] ............................ kernel=rbf, C=10, gamma=0.1 -  30.4s
[GridSearchCV] kernel=rbf, C=10, gamma=0.1 .....................................
[GridSearchCV] ............................ kernel=rbf, C=10, gamma=0.1 -  27.8s
[GridSearchCV] kernel=rbf, C=10, gamma=0.1 .....................................
[GridSearchCV] ............................ kernel=rbf, C=10, gamma=0.1 -  40.9s
[GridSearchCV] kernel=rbf, C=10, gamma=0.01 ....................................
[GridSearchCV] ........................... kernel=rbf, C=10, gamma=0.01 -   9.7s
[GridSearchCV] kernel=rbf, C=10, gamma=0.01 ....................................
[GridSearchCV] ........................... kernel=rbf, C=10, gamma=0.01 -   6.7s
[GridSearchCV] kernel=rbf, C=10, gamma=0.01 ....................................
[GridSearchCV] ........................... kernel=rbf, C=10, gamma=0.01 -   7.7s
[GridSearchCV] kernel=rbf, C=10, gamma=0.001 ...................................
[GridSearchCV] .......................... kernel=rbf, C=10, gamma=0.001 -   5.7s
[GridSearchCV] kernel=rbf, C=10, gamma=0.001 ...................................
[GridSearchCV] .......................... kernel=rbf, C=10, gamma=0.001 -   5.4s
[GridSearchCV] kernel=rbf, C=10, gamma=0.001 ...................................
[GridSearchCV] .......................... kernel=rbf, C=10, gamma=0.001 -   5.2s
[GridSearchCV] kernel=rbf, C=100, gamma=0.1 ....................................
[GridSearchCV] ........................... kernel=rbf, C=100, gamma=0.1 -  26.9s
[GridSearchCV] kernel=rbf, C=100, gamma=0.1 ....................................
[GridSearchCV] ........................... kernel=rbf, C=100, gamma=0.1 -  26.9s
[GridSearchCV] kernel=rbf, C=100, gamma=0.1 ....................................
[GridSearchCV] ........................... kernel=rbf, C=100, gamma=0.1 -  26.9s
[GridSearchCV] kernel=rbf, C=100, gamma=0.01 ...................................
[GridSearchCV] .......................... kernel=rbf, C=100, gamma=0.01 -   5.0s
[GridSearchCV] kernel=rbf, C=100, gamma=0.01 ...................................
[GridSearchCV] .......................... kernel=rbf, C=100, gamma=0.01 -   5.2s
[GridSearchCV] kernel=rbf, C=100, gamma=0.01 ...................................
[GridSearchCV] .......................... kernel=rbf, C=100, gamma=0.01 -   5.4s
[GridSearchCV] kernel=rbf, C=100, gamma=0.001 ..................................
[GridSearchCV] ......................... kernel=rbf, C=100, gamma=0.001 -   4.3s
[GridSearchCV] kernel=rbf, C=100, gamma=0.001 ..................................
[GridSearchCV] ......................... kernel=rbf, C=100, gamma=0.001 -   4.4s
[GridSearchCV] kernel=rbf, C=100, gamma=0.001 ..................................
[GridSearchCV] ......................... kernel=rbf, C=100, gamma=0.001 -   4.4s
[GridSearchCV] kernel=rbf, C=1000, gamma=0.1 ...................................
[GridSearchCV] .......................... kernel=rbf, C=1000, gamma=0.1 -  27.8s
[GridSearchCV] kernel=rbf, C=1000, gamma=0.1 ...................................
[GridSearchCV] .......................... kernel=rbf, C=1000, gamma=0.1 -  26.8s
[GridSearchCV] kernel=rbf, C=1000, gamma=0.1 ...................................
[GridSearchCV] .......................... kernel=rbf, C=1000, gamma=0.1 -  27.0s
[GridSearchCV] kernel=rbf, C=1000, gamma=0.01 ..................................
[GridSearchCV] ......................... kernel=rbf, C=1000, gamma=0.01 -   5.0s
[GridSearchCV] kernel=rbf, C=1000, gamma=0.01 ..................................
[GridSearchCV] ......................... kernel=rbf, C=1000, gamma=0.01 -   5.1s
[GridSearchCV] kernel=rbf, C=1000, gamma=0.01 ..................................
[GridSearchCV] ......................... kernel=rbf, C=1000, gamma=0.01 -   5.0s
[GridSearchCV] kernel=rbf, C=1000, gamma=0.001 .................................
[GridSearchCV] ........................ kernel=rbf, C=1000, gamma=0.001 -   4.6s
[GridSearchCV] kernel=rbf, C=1000, gamma=0.001 .................................
[GridSearchCV] ........................ kernel=rbf, C=1000, gamma=0.001 -   4.7s
[GridSearchCV] kernel=rbf, C=1000, gamma=0.001 .................................
[GridSearchCV] ........................ kernel=rbf, C=1000, gamma=0.001 -   4.6s
[GridSearchCV] kernel=poly, C=1, degree=5 ......................................
[GridSearchCV] ............................. kernel=poly, C=1, degree=5 -  21.9s
[GridSearchCV] kernel=poly, C=1, degree=5 ......................................
[GridSearchCV] ............................. kernel=poly, C=1, degree=5 -  22.4s
[GridSearchCV] kernel=poly, C=1, degree=5 ......................................
[GridSearchCV] ............................. kernel=poly, C=1, degree=5 -  23.6s
[GridSearchCV] kernel=poly, C=1, degree=9 ......................................
[GridSearchCV] ............................. kernel=poly, C=1, degree=9 -  31.7s
[GridSearchCV] kernel=poly, C=1, degree=9 ......................................
[GridSearchCV] ............................. kernel=poly, C=1, degree=9 -  30.5s
[GridSearchCV] kernel=poly, C=1, degree=9 ......................................
[GridSearchCV] ............................. kernel=poly, C=1, degree=9 -  31.2s
[GridSearchCV] kernel=poly, C=10, degree=5 .....................................
[GridSearchCV] ............................ kernel=poly, C=10, degree=5 -  16.9s
[GridSearchCV] kernel=poly, C=10, degree=5 .....................................
[GridSearchCV] ............................ kernel=poly, C=10, degree=5 -  20.4s
[GridSearchCV] kernel=poly, C=10, degree=5 .....................................
[GridSearchCV] ............................ kernel=poly, C=10, degree=5 -  19.0s
[GridSearchCV] kernel=poly, C=10, degree=9 .....................................
[GridSearchCV] ............................ kernel=poly, C=10, degree=9 -  27.5s
[GridSearchCV] kernel=poly, C=10, degree=9 .....................................
[GridSearchCV] ............................ kernel=poly, C=10, degree=9 -  25.6s
[GridSearchCV] kernel=poly, C=10, degree=9 .....................................
[GridSearchCV] ............................ kernel=poly, C=10, degree=9 -  25.0s
</pre>
</div>
</div>

<div class="output_area"><div class="prompt"></div>
<div class="output_subarea output_stream output_stderr output_text">
<pre>
[Parallel(n_jobs=1)]: Done   1 jobs       | elapsed:   30.4s
[Parallel(n_jobs=1)]: Done  39 out of  39 | elapsed: 10.9min finished

</pre>
</div>
</div>

<div class="output_area"><div class="prompt"></div>
<div class="output_subarea output_stream output_stdout output_text">
<pre>


</pre>
</div>
</div>

</div>
</div>

</div>
<div class="cell border-box-sizing code_cell rendered">
<div class="input">
<div class="prompt input_prompt">In&nbsp;[8]:</div>
<div class="inner_cell">
    <div class="input_area">
<div class="highlight"><pre><span class="n">svm</span><span class="o">.</span><span class="n">best_estimator_</span>
</pre></div>

</div>
</div>
</div>

<div class="output_wrapper">
<div class="output">


<div class="output_area"><div class="prompt output_prompt">Out[8]:</div>


<div class="output_text output_subarea output_pyout">
<pre>
SVC(C=10, cache_size=200, class_weight=None, coef0=0.0, degree=3, gamma=0.01,
  kernel=&apos;rbf&apos;, max_iter=-1, probability=False, shrinking=True, tol=0.001,
  verbose=False)
</pre>
</div>

</div>

</div>
</div>

</div>
<div class="cell border-box-sizing text_cell rendered">
<div class="prompt input_prompt">
</div>
<div class="inner_cell">
<div class="text_cell_render border-box-sizing rendered_html">
<p>Test it to some subset of the data not included in the training</p>
</div>
</div>
</div>
<div class="cell border-box-sizing code_cell rendered">
<div class="input">
<div class="prompt input_prompt">In&nbsp;[9]:</div>
<div class="inner_cell">
    <div class="input_area">
<div class="highlight"><pre><span class="n">Xt</span> <span class="o">=</span> <span class="n">min_max_scaler</span><span class="o">.</span><span class="n">transform</span><span class="p">(</span><span class="n">df</span><span class="o">.</span><span class="n">ix</span><span class="p">[</span><span class="mi">35000</span><span class="p">:,</span><span class="mi">1</span><span class="p">:])</span>
<span class="n">yt</span> <span class="o">=</span> <span class="n">df</span><span class="o">.</span><span class="n">ix</span><span class="p">[</span><span class="mi">35000</span><span class="p">:,</span><span class="mi">0</span><span class="p">]</span>

<span class="n">yp</span> <span class="o">=</span> <span class="n">svm</span><span class="o">.</span><span class="n">predict</span><span class="p">(</span><span class="n">pca</span><span class="o">.</span><span class="n">transform</span><span class="p">(</span><span class="n">Xt</span><span class="p">))</span>
</pre></div>

</div>
</div>
</div>

</div>
<div class="cell border-box-sizing code_cell rendered">
<div class="input">
<div class="prompt input_prompt">In&nbsp;[10]:</div>
<div class="inner_cell">
    <div class="input_area">
<div class="highlight"><pre><span class="k">print</span> <span class="s">&#39;prediction accuracy: </span><span class="si">%.4f</span><span class="s">&#39;</span> <span class="o">%</span> <span class="p">(</span><span class="mf">1.</span><span class="o">/</span><span class="nb">len</span><span class="p">(</span><span class="n">yt</span><span class="p">)</span> <span class="o">*</span> <span class="nb">sum</span><span class="p">(</span> <span class="n">yp</span> <span class="o">==</span> <span class="n">yt</span> <span class="p">))</span>
</pre></div>

</div>
</div>
</div>

<div class="output_wrapper">
<div class="output">


<div class="output_area"><div class="prompt"></div>
<div class="output_subarea output_stream output_stdout output_text">
<pre>
prediction accuracy: 0.9683

</pre>
</div>
</div>

</div>
</div>

</div>
<div class="cell border-box-sizing code_cell rendered">
<div class="input">
<div class="prompt input_prompt">In&nbsp;[11]:</div>
<div class="inner_cell">
    <div class="input_area">
<div class="highlight"><pre><span class="k">print</span> <span class="n">yp</span><span class="p">[:</span><span class="mi">30</span><span class="p">]</span><span class="o">.</span><span class="n">astype</span><span class="p">(</span><span class="nb">int</span><span class="p">)</span>
</pre></div>

</div>
</div>
</div>

<div class="output_wrapper">
<div class="output">


<div class="output_area"><div class="prompt"></div>
<div class="output_subarea output_stream output_stdout output_text">
<pre>
[2 2 5 4 7 6 0 6 9 5 4 8 5 2 6 2 3 9 3 9 4 0 4 5 2 0 6 5 5 0]

</pre>
</div>
</div>

</div>
</div>

</div>
<div class="cell border-box-sizing code_cell rendered">
<div class="input">
<div class="prompt input_prompt">In&nbsp;[12]:</div>
<div class="inner_cell">
    <div class="input_area">
<div class="highlight"><pre><span class="k">print</span> <span class="n">yt</span><span class="p">[:</span><span class="mi">30</span><span class="p">]</span><span class="o">.</span><span class="n">values</span><span class="o">.</span><span class="n">astype</span><span class="p">(</span><span class="nb">int</span><span class="p">)</span>
</pre></div>

</div>
</div>
</div>

<div class="output_wrapper">
<div class="output">


<div class="output_area"><div class="prompt"></div>
<div class="output_subarea output_stream output_stdout output_text">
<pre>
[2 2 5 4 7 6 0 6 4 5 4 8 5 2 6 2 3 9 3 9 4 0 4 5 2 0 6 5 5 0]

</pre>
</div>
</div>

</div>
</div>

</div>
<div class="cell border-box-sizing text_cell rendered">
<div class="prompt input_prompt">
</div>
<div class="inner_cell">
<div class="text_cell_render border-box-sizing rendered_html">
<h3 id="RandomForest">RandomForest<a class="anchor-link" href="#RandomForest">&#182;</a></h3>
</div>
</div>
</div>

<div class="cell border-box-sizing code_cell rendered">
<div class="input">
<div class="prompt input_prompt">In&nbsp;[175]:</div>
<div class="inner_cell">
    <div class="input_area">
<div class="highlight"><pre><span class="n">min_max_scaler</span> <span class="o">=</span> <span class="n">MinMaxScaler</span><span class="p">()</span>
<span class="n">pca</span> <span class="o">=</span> <span class="n">PCA</span><span class="p">(</span><span class="n">n_components</span><span class="o">=</span><span class="mi">80</span><span class="p">)</span>
</pre></div>

</div>
</div>
</div>

</div>
<div class="cell border-box-sizing code_cell rendered">
<div class="input">
<div class="prompt input_prompt">In&nbsp;[176]:</div>
<div class="inner_cell">
    <div class="input_area">
<div class="highlight"><pre><span class="n">X</span> <span class="o">=</span> <span class="n">min_max_scaler</span><span class="o">.</span><span class="n">fit_transform</span><span class="p">(</span><span class="n">df</span><span class="o">.</span><span class="n">ix</span><span class="p">[:</span><span class="mi">9999</span><span class="p">,</span><span class="mi">1</span><span class="p">:])</span>
<span class="n">X</span> <span class="o">=</span> <span class="n">pca</span><span class="o">.</span><span class="n">fit_transform</span><span class="p">(</span><span class="n">X</span><span class="p">)</span>

<span class="n">y</span> <span class="o">=</span> <span class="n">df</span><span class="o">.</span><span class="n">ix</span><span class="p">[:</span><span class="mi">9999</span><span class="p">,</span><span class="mi">0</span><span class="p">]</span>
</pre></div>

</div>
</div>
</div>

</div>
<div class="cell border-box-sizing code_cell rendered">
<div class="input">
<div class="prompt input_prompt">In&nbsp;[172]:</div>
<div class="inner_cell">
    <div class="input_area">
<div class="highlight"><pre><span class="n">tuned_parameters</span> <span class="o">=</span> <span class="p">[{</span><span class="s">&#39;max_features&#39;</span><span class="p">:</span> <span class="p">[</span><span class="s">&#39;sqrt&#39;</span><span class="p">,</span> <span class="s">&#39;log2&#39;</span><span class="p">],</span> <span class="s">&#39;n_estimators&#39;</span><span class="p">:</span> <span class="p">[</span><span class="mi">1000</span><span class="p">,</span> <span class="mi">1500</span><span class="p">]}]</span>

<span class="n">rf</span> <span class="o">=</span> <span class="n">GridSearchCV</span><span class="p">(</span> <span class="n">RandomForestClassifier</span><span class="p">(</span><span class="n">min_samples_split</span><span class="o">=</span><span class="mi">1</span><span class="p">,</span> <span class="n">compute_importances</span><span class="o">=</span><span class="bp">False</span><span class="p">,</span> <span class="n">n_jobs</span><span class="o">=-</span><span class="mi">1</span><span class="p">),</span> <span class="n">tuned_parameters</span><span class="p">,</span> <span class="n">cv</span><span class="o">=</span><span class="mi">3</span><span class="p">,</span> <span class="n">verbose</span><span class="o">=</span><span class="mi">2</span> <span class="p">)</span><span class="o">.</span><span class="n">fit</span><span class="p">(</span><span class="n">X</span><span class="p">,</span> <span class="n">y</span><span class="p">)</span>
</pre></div>

</div>
</div>
</div>

<div class="output_wrapper">
<div class="output">


<div class="output_area"><div class="prompt"></div>
<div class="output_subarea output_stream output_stdout output_text">
<pre>
[GridSearchCV] max_features=sqrt, n_estimators=1000 ............................
[GridSearchCV] ................... max_features=sqrt, n_estimators=1000 - 3.6min
[GridSearchCV] max_features=sqrt, n_estimators=1000 ............................

</pre>
</div>
</div>

<div class="output_area"><div class="prompt"></div>
<div class="output_subarea output_stream output_stderr output_text">
<pre>
[Parallel(n_jobs=1)]: Done   1 jobs       | elapsed:  3.6min

</pre>
</div>
</div>

<div class="output_area"><div class="prompt"></div>
<div class="output_subarea output_stream output_stdout output_text">
<pre>
[GridSearchCV] ................... max_features=sqrt, n_estimators=1000 - 3.6min
[GridSearchCV] max_features=sqrt, n_estimators=1000 ............................
[GridSearchCV] ................... max_features=sqrt, n_estimators=1000 - 3.4min
[GridSearchCV] max_features=sqrt, n_estimators=1500 ............................
[GridSearchCV] ................... max_features=sqrt, n_estimators=1500 - 5.0min
[GridSearchCV] max_features=sqrt, n_estimators=1500 ............................
[GridSearchCV] ................... max_features=sqrt, n_estimators=1500 - 5.0min
[GridSearchCV] max_features=sqrt, n_estimators=1500 ............................
[GridSearchCV] ................... max_features=sqrt, n_estimators=1500 - 5.0min
[GridSearchCV] max_features=log2, n_estimators=1000 ............................
[GridSearchCV] ................... max_features=log2, n_estimators=1000 - 4.0min
[GridSearchCV] max_features=log2, n_estimators=1000 ............................
[GridSearchCV] ................... max_features=log2, n_estimators=1000 - 3.5min
[GridSearchCV] max_features=log2, n_estimators=1000 ............................
[GridSearchCV] ................... max_features=log2, n_estimators=1000 - 3.3min
[GridSearchCV] max_features=log2, n_estimators=1500 ............................
[GridSearchCV] ................... max_features=log2, n_estimators=1500 - 4.9min
[GridSearchCV] max_features=log2, n_estimators=1500 ............................
[GridSearchCV] ................... max_features=log2, n_estimators=1500 - 5.2min
[GridSearchCV] max_features=log2, n_estimators=1500 ............................
[GridSearchCV] ................... max_features=log2, n_estimators=1500 - 5.3min

</pre>
</div>
</div>

<div class="output_area"><div class="prompt"></div>
<div class="output_subarea output_stream output_stderr output_text">
<pre>
[Parallel(n_jobs=1)]: Done  12 out of  12 | elapsed: 51.8min finished

</pre>
</div>
</div>

</div>
</div>

</div>
<div class="cell border-box-sizing code_cell rendered">
<div class="input">
<div class="prompt input_prompt">In&nbsp;[177]:</div>
<div class="inner_cell">
    <div class="input_area">
<div class="highlight"><pre><span class="n">Xt</span> <span class="o">=</span> <span class="n">min_max_scaler</span><span class="o">.</span><span class="n">transform</span><span class="p">(</span><span class="n">df</span><span class="o">.</span><span class="n">ix</span><span class="p">[</span><span class="mi">35000</span><span class="p">:,</span><span class="mi">1</span><span class="p">:])</span>
<span class="n">yt</span> <span class="o">=</span> <span class="n">df</span><span class="o">.</span><span class="n">ix</span><span class="p">[</span><span class="mi">35000</span><span class="p">:,</span><span class="mi">0</span><span class="p">]</span>

<span class="n">yp</span> <span class="o">=</span> <span class="n">rf</span><span class="o">.</span><span class="n">predict</span><span class="p">(</span><span class="n">pca</span><span class="o">.</span><span class="n">transform</span><span class="p">(</span><span class="n">Xt</span><span class="p">))</span>
</pre></div>

</div>
</div>
</div>

</div>
<div class="cell border-box-sizing code_cell rendered">
<div class="input">
<div class="prompt input_prompt">In&nbsp;[180]:</div>
<div class="inner_cell">
    <div class="input_area">
<div class="highlight"><pre><span class="k">print</span> <span class="s">&#39;prediction accuracy: </span><span class="si">%.4f</span><span class="s">&#39;</span> <span class="o">%</span> <span class="p">(</span><span class="mf">1.</span><span class="o">/</span><span class="nb">len</span><span class="p">(</span><span class="n">yt</span><span class="p">)</span> <span class="o">*</span> <span class="nb">sum</span><span class="p">(</span> <span class="n">yp</span> <span class="o">==</span> <span class="n">yt</span> <span class="p">))</span>
</pre></div>

</div>
</div>
</div>

<div class="output_wrapper">
<div class="output">


<div class="output_area"><div class="prompt"></div>
<div class="output_subarea output_stream output_stdout output_text">
<pre>
prediction accuracy: 0.9407

</pre>
</div>
</div>

</div>
</div>

</div>
<div class="cell border-box-sizing code_cell rendered">
<div class="input">
<div class="prompt input_prompt">In&nbsp;[186]:</div>
<div class="inner_cell">
    <div class="input_area">
<div class="highlight"><pre><span class="k">print</span> <span class="n">yp</span><span class="p">[:</span><span class="mi">30</span><span class="p">]</span><span class="o">.</span><span class="n">astype</span><span class="p">(</span><span class="nb">int</span><span class="p">)</span>
</pre></div>

</div>
</div>
</div>

<div class="output_wrapper">
<div class="output">


<div class="output_area"><div class="prompt"></div>
<div class="output_subarea output_stream output_stdout output_text">
<pre>
[2 2 5 4 7 6 6 6 7 5 4 8 5 2 6 2 3 9 3 9 4 0 4 8 2 0 6 5 5 0]

</pre>
</div>
</div>

</div>
</div>

</div>
<div class="cell border-box-sizing code_cell rendered">
<div class="input">
<div class="prompt input_prompt">In&nbsp;[187]:</div>
<div class="inner_cell">
    <div class="input_area">
<div class="highlight"><pre><span class="k">print</span> <span class="n">yt</span><span class="p">[:</span><span class="mi">30</span><span class="p">]</span><span class="o">.</span><span class="n">values</span><span class="o">.</span><span class="n">astype</span><span class="p">(</span><span class="nb">int</span><span class="p">)</span>
</pre></div>

</div>
</div>
</div>

<div class="output_wrapper">
<div class="output">


<div class="output_area"><div class="prompt"></div>
<div class="output_subarea output_stream output_stdout output_text">
<pre>
[2 2 5 4 7 6 0 6 4 5 4 8 5 2 6 2 3 9 3 9 4 0 4 5 2 0 6 5 5 0]

</pre>
</div>
</div>

</div>
</div>

</div>
<div class="cell border-box-sizing text_cell rendered">
<div class="prompt input_prompt">
</div>
<div class="inner_cell">
<div class="text_cell_render border-box-sizing rendered_html">
<h3 id="Ensemble-of-SVMs">Ensemble of SVMs<a class="anchor-link" href="#Ensemble-of-SVMs">&#182;</a></h3>
</div>
</div>
</div>

<div class="cell border-box-sizing code_cell rendered">
<div class="input">
<div class="prompt input_prompt">In&nbsp;[3]:</div>
<div class="inner_cell">
    <div class="input_area">
<div class="highlight"><pre><span class="n">scalers</span> <span class="o">=</span> <span class="p">[]</span>
<span class="n">pca_xfrms</span> <span class="o">=</span> <span class="p">[]</span>
<span class="n">clfs</span> <span class="o">=</span> <span class="p">[]</span>

<span class="c"># compute indexes where to split the data</span>
<span class="n">ixs</span> <span class="o">=</span> <span class="n">np</span><span class="o">.</span><span class="n">arange</span><span class="p">(</span><span class="n">df</span><span class="o">.</span><span class="n">shape</span><span class="p">[</span><span class="mi">0</span><span class="p">])</span>
<span class="n">splits</span> <span class="o">=</span> <span class="n">np</span><span class="o">.</span><span class="n">split</span><span class="p">(</span><span class="n">ixs</span><span class="p">,</span> <span class="p">[</span><span class="mi">11000</span><span class="p">,</span> <span class="mi">22000</span><span class="p">,</span> <span class="mi">35000</span><span class="p">])</span>

<span class="n">tuned_parameters</span> <span class="o">=</span> <span class="p">[{</span><span class="s">&#39;gamma&#39;</span><span class="p">:</span> <span class="p">[</span><span class="mf">0.1</span><span class="p">,</span> <span class="mf">1e-2</span><span class="p">,</span> <span class="mf">1e-3</span><span class="p">],</span> <span class="s">&#39;C&#39;</span><span class="p">:</span> <span class="p">[</span><span class="mi">10</span><span class="p">,</span> <span class="mi">100</span><span class="p">,</span> <span class="mi">1000</span><span class="p">]}]</span>

<span class="c"># first 7 groups are training, the last is for testing</span>
<span class="k">for</span> <span class="n">s</span> <span class="ow">in</span> <span class="n">splits</span><span class="p">[:</span><span class="o">-</span><span class="mi">1</span><span class="p">]:</span>
    <span class="n">min_max_scaler</span> <span class="o">=</span> <span class="n">MinMaxScaler</span><span class="p">()</span>
    <span class="n">pca</span> <span class="o">=</span> <span class="n">PCA</span><span class="p">(</span><span class="n">n_components</span><span class="o">=</span><span class="mi">80</span><span class="p">)</span>

    <span class="c"># get training subset</span>
    <span class="n">X</span> <span class="o">=</span> <span class="n">df</span><span class="o">.</span><span class="n">ix</span><span class="p">[</span><span class="n">s</span><span class="p">,</span><span class="mi">1</span><span class="p">:]</span><span class="o">.</span><span class="n">copy</span><span class="p">()</span>
    <span class="n">y</span> <span class="o">=</span> <span class="n">df</span><span class="o">.</span><span class="n">ix</span><span class="p">[</span><span class="n">s</span><span class="p">,</span><span class="mi">0</span><span class="p">]</span><span class="o">.</span><span class="n">copy</span><span class="p">()</span>
    
    <span class="c"># all the transformations</span>
    <span class="n">X</span> <span class="o">=</span> <span class="n">min_max_scaler</span><span class="o">.</span><span class="n">fit_transform</span><span class="p">(</span><span class="n">X</span><span class="p">)</span>
    <span class="n">X</span> <span class="o">=</span> <span class="n">pca</span><span class="o">.</span><span class="n">fit_transform</span><span class="p">(</span><span class="n">X</span><span class="p">)</span>
    
    <span class="c"># train the classifier</span>
    <span class="n">svm</span> <span class="o">=</span> <span class="n">GridSearchCV</span><span class="p">(</span> <span class="n">SVC</span><span class="p">(),</span> <span class="n">tuned_parameters</span><span class="p">,</span> <span class="n">cv</span><span class="o">=</span><span class="mi">3</span><span class="p">,</span> <span class="n">verbose</span><span class="o">=</span><span class="mi">1</span> <span class="p">)</span><span class="o">.</span><span class="n">fit</span><span class="p">(</span><span class="n">X</span><span class="p">,</span> <span class="n">y</span><span class="p">)</span>
    
    <span class="c"># store scaler, PCA transformer, and SVM classifier for this subset</span>
    <span class="n">scalers</span><span class="o">.</span><span class="n">append</span><span class="p">(</span><span class="n">min_max_scaler</span><span class="p">)</span>
    <span class="n">pca_xfrms</span><span class="o">.</span><span class="n">append</span><span class="p">(</span><span class="n">pca</span><span class="p">)</span>
    <span class="n">clfs</span><span class="o">.</span><span class="n">append</span><span class="p">(</span><span class="n">svm</span><span class="p">)</span>
</pre></div>

</div>
</div>
</div>

<div class="output_wrapper">
<div class="output">


<div class="output_area"><div class="prompt"></div>
<div class="output_subarea output_stream output_stderr output_text">
<pre>
[Parallel(n_jobs=1)]: Done   1 jobs       | elapsed:   32.7s
[Parallel(n_jobs=1)]: Done  27 out of  27 | elapsed:  6.7min finished
[Parallel(n_jobs=1)]: Done   1 jobs       | elapsed:   33.8s
[Parallel(n_jobs=1)]: Done  27 out of  27 | elapsed:  6.6min finished
[Parallel(n_jobs=1)]: Done   1 jobs       | elapsed:   44.8s
[Parallel(n_jobs=1)]: Done  27 out of  27 | elapsed:  9.1min finished

</pre>
</div>
</div>

</div>
</div>

</div>
<div class="cell border-box-sizing code_cell rendered">
<div class="input">
<div class="prompt input_prompt">In&nbsp;[4]:</div>
<div class="inner_cell">
    <div class="input_area">
<div class="highlight"><pre><span class="n">yt</span> <span class="o">=</span> <span class="n">df</span><span class="o">.</span><span class="n">ix</span><span class="p">[</span><span class="n">splits</span><span class="p">[</span><span class="o">-</span><span class="mi">1</span><span class="p">],</span><span class="mi">0</span><span class="p">]</span><span class="o">.</span><span class="n">astype</span><span class="p">(</span><span class="nb">int</span><span class="p">)</span>
<span class="n">preds</span> <span class="o">=</span> <span class="n">np</span><span class="o">.</span><span class="n">zeros</span><span class="p">((</span><span class="nb">len</span><span class="p">(</span><span class="n">clfs</span><span class="p">),</span> <span class="nb">len</span><span class="p">(</span><span class="n">yt</span><span class="p">)))</span>

<span class="n">i</span> <span class="o">=</span> <span class="mi">0</span>
<span class="k">for</span> <span class="n">scaler</span><span class="p">,</span> <span class="n">xfrm</span><span class="p">,</span> <span class="n">clf</span> <span class="ow">in</span> <span class="nb">zip</span><span class="p">(</span><span class="n">scalers</span><span class="p">,</span> <span class="n">pca_xfrms</span><span class="p">,</span> <span class="n">clfs</span><span class="p">):</span>
    <span class="n">Xt</span> <span class="o">=</span> <span class="n">df</span><span class="o">.</span><span class="n">ix</span><span class="p">[</span><span class="n">splits</span><span class="p">[</span><span class="o">-</span><span class="mi">1</span><span class="p">],</span><span class="mi">1</span><span class="p">:]</span><span class="o">.</span><span class="n">copy</span><span class="p">()</span>
    <span class="n">Xt</span> <span class="o">=</span> <span class="n">scaler</span><span class="o">.</span><span class="n">transform</span><span class="p">(</span><span class="n">Xt</span><span class="p">)</span>
    <span class="n">preds</span><span class="p">[</span><span class="n">i</span><span class="p">]</span> <span class="o">=</span> <span class="n">clf</span><span class="o">.</span><span class="n">predict</span><span class="p">(</span><span class="n">xfrm</span><span class="o">.</span><span class="n">transform</span><span class="p">(</span><span class="n">Xt</span><span class="p">))</span>
    
    <span class="n">i</span> <span class="o">+=</span> <span class="mi">1</span>
    
<span class="n">preds</span><span class="o">.</span><span class="n">shape</span>
</pre></div>

</div>
</div>
</div>

<div class="output_wrapper">
<div class="output">


<div class="output_area"><div class="prompt output_prompt">Out[4]:</div>


<div class="output_text output_subarea output_pyout">
<pre>
(3, 7000)
</pre>
</div>

</div>

</div>
</div>

</div>
<div class="cell border-box-sizing code_cell rendered">
<div class="input">
<div class="prompt input_prompt">In&nbsp;[5]:</div>
<div class="inner_cell">
    <div class="input_area">
<div class="highlight"><pre><span class="n">total_pred</span> <span class="o">=</span> <span class="p">[</span><span class="n">np</span><span class="o">.</span><span class="n">bincount</span><span class="p">(</span><span class="n">x</span><span class="p">)</span><span class="o">.</span><span class="n">argmax</span><span class="p">()</span> <span class="k">for</span> <span class="n">x</span> <span class="ow">in</span> <span class="n">preds</span><span class="o">.</span><span class="n">T</span><span class="o">.</span><span class="n">astype</span><span class="p">(</span><span class="nb">int</span><span class="p">)]</span>
<span class="k">print</span> <span class="s">&#39;prediction accuracy: </span><span class="si">%.4f</span><span class="s">&#39;</span> <span class="o">%</span> <span class="p">(</span><span class="mf">1.</span><span class="o">/</span><span class="nb">len</span><span class="p">(</span><span class="n">yt</span><span class="p">)</span> <span class="o">*</span> <span class="nb">sum</span><span class="p">(</span> <span class="n">total_pred</span> <span class="o">==</span> <span class="n">yt</span> <span class="p">))</span>
</pre></div>

</div>
</div>
</div>

<div class="output_wrapper">
<div class="output">


<div class="output_area"><div class="prompt"></div>
<div class="output_subarea output_stream output_stdout output_text">
<pre>
prediction accuracy: 0.9744

</pre>
</div>
</div>

</div>
</div>

</div>
<div class="cell border-box-sizing code_cell rendered">
<div class="input">
<div class="prompt input_prompt">In&nbsp;[6]:</div>
<div class="inner_cell">
    <div class="input_area">
<div class="highlight"><pre><span class="k">print</span> <span class="n">np</span><span class="o">.</span><span class="n">array</span><span class="p">(</span><span class="n">total_pred</span><span class="p">[:</span><span class="mi">30</span><span class="p">])</span>
</pre></div>

</div>
</div>
</div>

<div class="output_wrapper">
<div class="output">


<div class="output_area"><div class="prompt"></div>
<div class="output_subarea output_stream output_stdout output_text">
<pre>
[2 2 5 4 7 6 0 6 4 5 4 8 5 2 6 2 3 9 3 9 4 0 4 5 2 0 6 5 5 0]

</pre>
</div>
</div>

</div>
</div>

</div>
<div class="cell border-box-sizing code_cell rendered">
<div class="input">
<div class="prompt input_prompt">In&nbsp;[7]:</div>
<div class="inner_cell">
    <div class="input_area">
<div class="highlight"><pre><span class="k">print</span> <span class="n">yt</span><span class="p">[:</span><span class="mi">30</span><span class="p">]</span><span class="o">.</span><span class="n">values</span>
</pre></div>

</div>
</div>
</div>

<div class="output_wrapper">
<div class="output">


<div class="output_area"><div class="prompt"></div>
<div class="output_subarea output_stream output_stdout output_text">
<pre>
[2 2 5 4 7 6 0 6 4 5 4 8 5 2 6 2 3 9 3 9 4 0 4 5 2 0 6 5 5 0]

</pre>
</div>
</div>

</div>
</div>

</div>
<div class="cell border-box-sizing code_cell rendered">
<div class="input">
<div class="prompt input_prompt">In&nbsp;[8]:</div>
<div class="inner_cell">
    <div class="input_area">
<div class="highlight"><pre><span class="n">preds</span><span class="p">[:,</span><span class="mi">23</span><span class="p">]</span>
</pre></div>

</div>
</div>
</div>

<div class="output_wrapper">
<div class="output">


<div class="output_area"><div class="prompt output_prompt">Out[8]:</div>


<div class="output_text output_subarea output_pyout">
<pre>
array([5, 5, 8])
</pre>
</div>

</div>

</div>
</div>

</div>
<div class="cell border-box-sizing text_cell rendered">
<div class="prompt input_prompt">
</div>
<div class="inner_cell">
<div class="text_cell_render border-box-sizing rendered_html">
<h3 id="Submission-attempts">Submission attempts<a class="anchor-link" href="#Submission-attempts">&#182;</a></h3>
</div>
</div>
</div>

<div class="cell border-box-sizing text_cell rendered">
<div class="prompt input_prompt">
</div>
<div class="inner_cell">
<div class="text_cell_render border-box-sizing rendered_html">
<ul>
<li>First attempt: split data into three, build an SVM for each, majority voting for end prediction --&gt; Kaggle score 0.97429</li>
</ul>
</div>
</div>
</div>
<div class="cell border-box-sizing code_cell rendered">
<div class="input">
<div class="prompt input_prompt">In&nbsp;[3]:</div>
<div class="inner_cell">
    <div class="input_area">
<div class="highlight"><pre><span class="n">scalers</span> <span class="o">=</span> <span class="p">[]</span>
<span class="n">pca_xfrms</span> <span class="o">=</span> <span class="p">[]</span>
<span class="n">clfs</span> <span class="o">=</span> <span class="p">[]</span>

<span class="c"># compute indexes where to split the data</span>
<span class="n">ixs</span> <span class="o">=</span> <span class="n">np</span><span class="o">.</span><span class="n">arange</span><span class="p">(</span><span class="n">df</span><span class="o">.</span><span class="n">shape</span><span class="p">[</span><span class="mi">0</span><span class="p">])</span>
<span class="n">splits</span> <span class="o">=</span> <span class="n">np</span><span class="o">.</span><span class="n">split</span><span class="p">(</span><span class="n">ixs</span><span class="p">,</span> <span class="p">[</span><span class="mi">14000</span><span class="p">,</span> <span class="mi">28000</span><span class="p">])</span>

<span class="n">tuned_parameters</span> <span class="o">=</span> <span class="p">[{</span><span class="s">&#39;gamma&#39;</span><span class="p">:</span> <span class="p">[</span><span class="mf">0.1</span><span class="p">,</span> <span class="mf">1e-2</span><span class="p">,</span> <span class="mf">1e-3</span><span class="p">],</span> <span class="s">&#39;C&#39;</span><span class="p">:</span> <span class="p">[</span><span class="mi">10</span><span class="p">,</span> <span class="mi">100</span><span class="p">,</span> <span class="mi">1000</span><span class="p">]}]</span>

<span class="c"># use all data for training</span>
<span class="k">for</span> <span class="n">s</span> <span class="ow">in</span> <span class="n">splits</span><span class="p">:</span>
    <span class="n">min_max_scaler</span> <span class="o">=</span> <span class="n">MinMaxScaler</span><span class="p">()</span>
    <span class="n">pca</span> <span class="o">=</span> <span class="n">PCA</span><span class="p">(</span><span class="n">n_components</span><span class="o">=</span><span class="mi">80</span><span class="p">)</span>

    <span class="c"># get training subset</span>
    <span class="n">X</span> <span class="o">=</span> <span class="n">df</span><span class="o">.</span><span class="n">ix</span><span class="p">[</span><span class="n">s</span><span class="p">,</span><span class="mi">1</span><span class="p">:]</span><span class="o">.</span><span class="n">copy</span><span class="p">()</span>
    <span class="n">y</span> <span class="o">=</span> <span class="n">df</span><span class="o">.</span><span class="n">ix</span><span class="p">[</span><span class="n">s</span><span class="p">,</span><span class="mi">0</span><span class="p">]</span><span class="o">.</span><span class="n">copy</span><span class="p">()</span>
    
    <span class="c"># all the transformations</span>
    <span class="n">X</span> <span class="o">=</span> <span class="n">min_max_scaler</span><span class="o">.</span><span class="n">fit_transform</span><span class="p">(</span><span class="n">X</span><span class="p">)</span>
    <span class="n">X</span> <span class="o">=</span> <span class="n">pca</span><span class="o">.</span><span class="n">fit_transform</span><span class="p">(</span><span class="n">X</span><span class="p">)</span>
    
    <span class="c"># train the classifier</span>
    <span class="n">svm</span> <span class="o">=</span> <span class="n">GridSearchCV</span><span class="p">(</span> <span class="n">SVC</span><span class="p">(),</span> <span class="n">tuned_parameters</span><span class="p">,</span> <span class="n">cv</span><span class="o">=</span><span class="mi">3</span><span class="p">,</span> <span class="n">verbose</span><span class="o">=</span><span class="mi">1</span> <span class="p">)</span><span class="o">.</span><span class="n">fit</span><span class="p">(</span><span class="n">X</span><span class="p">,</span> <span class="n">y</span><span class="p">)</span>
    
    <span class="c"># store scaler, PCA transformer, and SVM classifier for this subset</span>
    <span class="n">scalers</span><span class="o">.</span><span class="n">append</span><span class="p">(</span><span class="n">min_max_scaler</span><span class="p">)</span>
    <span class="n">pca_xfrms</span><span class="o">.</span><span class="n">append</span><span class="p">(</span><span class="n">pca</span><span class="p">)</span>
    <span class="n">clfs</span><span class="o">.</span><span class="n">append</span><span class="p">(</span><span class="n">svm</span><span class="p">)</span>
</pre></div>

</div>
</div>
</div>

<div class="output_wrapper">
<div class="output">


<div class="output_area"><div class="prompt"></div>
<div class="output_subarea output_stream output_stderr output_text">
<pre>
[Parallel(n_jobs=1)]: Done   1 jobs       | elapsed:   52.9s
[Parallel(n_jobs=1)]: Done  27 out of  27 | elapsed: 10.5min finished
[Parallel(n_jobs=1)]: Done   1 jobs       | elapsed:   52.6s
[Parallel(n_jobs=1)]: Done  27 out of  27 | elapsed: 10.6min finished
[Parallel(n_jobs=1)]: Done   1 jobs       | elapsed:   52.5s
[Parallel(n_jobs=1)]: Done  27 out of  27 | elapsed: 10.4min finished

</pre>
</div>
</div>

</div>
</div>

</div>
<div class="cell border-box-sizing code_cell rendered">
<div class="input">
<div class="prompt input_prompt">In&nbsp;[6]:</div>
<div class="inner_cell">
    <div class="input_area">
<div class="highlight"><pre><span class="n">df2</span> <span class="o">=</span> <span class="n">pd</span><span class="o">.</span><span class="n">read_csv</span><span class="p">(</span><span class="s">&#39;./data/test.csv&#39;</span><span class="p">)</span>
<span class="n">df2</span> <span class="o">=</span> <span class="n">df2</span><span class="o">.</span><span class="n">astype</span><span class="p">(</span><span class="n">float64</span><span class="p">)</span>
</pre></div>

</div>
</div>
</div>

</div>
<div class="cell border-box-sizing code_cell rendered">
<div class="input">
<div class="prompt input_prompt">In&nbsp;[7]:</div>
<div class="inner_cell">
    <div class="input_area">
<div class="highlight"><pre><span class="n">preds</span> <span class="o">=</span> <span class="n">np</span><span class="o">.</span><span class="n">zeros</span><span class="p">((</span><span class="nb">len</span><span class="p">(</span><span class="n">clfs</span><span class="p">),</span> <span class="n">df2</span><span class="o">.</span><span class="n">shape</span><span class="p">[</span><span class="mi">0</span><span class="p">]))</span>

<span class="n">i</span> <span class="o">=</span> <span class="mi">0</span>
<span class="k">for</span> <span class="n">scaler</span><span class="p">,</span> <span class="n">xfrm</span><span class="p">,</span> <span class="n">clf</span> <span class="ow">in</span> <span class="nb">zip</span><span class="p">(</span><span class="n">scalers</span><span class="p">,</span> <span class="n">pca_xfrms</span><span class="p">,</span> <span class="n">clfs</span><span class="p">):</span>
    <span class="n">Xt</span> <span class="o">=</span> <span class="n">df2</span><span class="o">.</span><span class="n">copy</span><span class="p">()</span>
    <span class="n">Xt</span> <span class="o">=</span> <span class="n">scaler</span><span class="o">.</span><span class="n">transform</span><span class="p">(</span><span class="n">Xt</span><span class="p">)</span>
    <span class="n">preds</span><span class="p">[</span><span class="n">i</span><span class="p">]</span> <span class="o">=</span> <span class="n">clf</span><span class="o">.</span><span class="n">predict</span><span class="p">(</span><span class="n">xfrm</span><span class="o">.</span><span class="n">transform</span><span class="p">(</span><span class="n">Xt</span><span class="p">))</span>
    
    <span class="n">i</span> <span class="o">+=</span> <span class="mi">1</span>
    
<span class="n">total_pred</span> <span class="o">=</span> <span class="p">[</span><span class="n">np</span><span class="o">.</span><span class="n">bincount</span><span class="p">(</span><span class="n">x</span><span class="p">)</span><span class="o">.</span><span class="n">argmax</span><span class="p">()</span> <span class="k">for</span> <span class="n">x</span> <span class="ow">in</span> <span class="n">preds</span><span class="o">.</span><span class="n">T</span><span class="o">.</span><span class="n">astype</span><span class="p">(</span><span class="nb">int</span><span class="p">)]</span>
</pre></div>

</div>
</div>
</div>

</div>
<div class="cell border-box-sizing code_cell rendered">
<div class="input">
<div class="prompt input_prompt">In&nbsp;[9]:</div>
<div class="inner_cell">
    <div class="input_area">
<div class="highlight"><pre><span class="k">with</span> <span class="nb">open</span><span class="p">(</span><span class="s">&#39;./data/submission.csv&#39;</span><span class="p">,</span> <span class="s">&#39;w&#39;</span><span class="p">)</span> <span class="k">as</span> <span class="n">of</span><span class="p">:</span>
    <span class="n">of</span><span class="o">.</span><span class="n">write</span><span class="p">(</span><span class="s">&#39;</span><span class="se">\n</span><span class="s">&#39;</span><span class="o">.</span><span class="n">join</span><span class="p">(</span><span class="nb">str</span><span class="p">(</span><span class="n">x</span><span class="p">)</span> <span class="k">for</span> <span class="n">x</span> <span class="ow">in</span> <span class="n">total_pred</span><span class="p">))</span>
</pre></div>

</div>
</div>
</div>

</div>
<div class="cell border-box-sizing code_cell rendered">
<div class="input">
<div class="prompt input_prompt">In&nbsp;[&nbsp;]:</div>
<div class="inner_cell">
    <div class="input_area">
<div class="highlight"><pre> 
</pre></div>

</div>
</div>
</div>

</div>


     <!-- <hr/> -->
     <div class="row hidden-print">
      <div class="span12 text-center">
        <a href="#">Back to top</a>
      </div>
    </div>

     <!-- Footer
     ================================================== -->
      
      <footer class="footer hidden-print">
      <div class="span12 row-fluid footer-row">
          <div class="span4">
            <p>This web site does not host notebooks, it only renders notebooks available on other websites.</p>
          </div>

          <div class="span4">
            <p>Thanks to <a href="https://developer.rackspace.com/?nbviewer=awesome">Rackspace</a> for hosting.</p>
            <p>nbviewer GitHub <a href="https://github.com/jupyter/nbviewer">repository</a>.</p>
            <p>nbviewer <a href="https://github.com/jupyter/nbviewer/blob/master/LICENSE.txt" target="_blank">license</a>.</p>
          </div>

          <div class="span4">
            

              
                <p>
                    nbviewer version:
                    <a href="https://github.com/jupyter/nbviewer/commit/7e7df08701fcb80770d6e80fb7f9cbd9a30fff03">7e7df08</a>
                </p>
              
            

<p class="text-muted">
    IPython version: 2.4.0-maint
    
</p>


            

            

<p class="text-muted">
Rendered <span class='date' data-date='Sat, 20 Dec 2014 09:25:25 UTC' title='Sat, 20 Dec 2014 09:25:25 UTC'>(Sat, 20 Dec 2014 09:25:25 UTC)</span>
</p>


          </div>
      </div>
      </footer>
      

    </div><!-- /container -->

    <script src="/static/js/bootstrap-collapse.js"></script>
    <script src="/static/components/headroom.js/dist/headroom.min.js"></script>
    <script src="/static/components/headroom.js/dist/jQuery.headroom.min.js"></script>


    
    
    
    <script>
    $(document).ready(
                function(){
                    $("#menubar").headroom({
                        "tolerance": 5,
                        "offset": 205,
                        "classes": {
                            "initial": "animated",
                            "pinned": "slideInDown",
                            "unpinned": "slideOutUp"
                        }
                    })
                }
            );
    </script>


    <!-- Analytics
    ================================================== -->
    <script>
      (function(i,s,o,g,r,a,m){i['GoogleAnalyticsObject']=r;i[r]=i[r]||function(){
        (i[r].q=i[r].q||[]).push(arguments)},i[r].l=1*new Date();a=s.createElement(o),
        m=s.getElementsByTagName(o)[0];a.async=1;a.src=g;m.parentNode.insertBefore(a,m)
      })(window,document,'script','//www.google-analytics.com/analytics.js','ga');

      ga('create', 'UA-38683231-2', 'auto');
      ga('send', 'pageview');

    </script>
    <script>
        var update_date  = function(){
            var str = window.moment($('.date').data('date')).fromNow();
            $('.date').text(str);
        }
        setInterval(update_date , 61*1000);
        $(update_date);
    </script>
    <!--NEW RELIC Stop Perf Measurement-->
    
    <!--NEW RELIC End-->
  </body>
</html>